{
 "cells": [
  {
   "cell_type": "code",
   "execution_count": 1,
   "metadata": {},
   "outputs": [],
   "source": [
    "import pandas as pd\n",
    "\n",
    "from sklearn.preprocessing import LabelEncoder\n",
    "\n",
    "from sklearn.cluster import KMeans\n",
    "\n",
    "from sklearn.preprocessing import StandardScaler\n",
    "\n",
    "from sklearn.model_selection import train_test_split, cross_val_score\n",
    "\n",
    "from sklearn.linear_model import LinearRegression\n",
    "\n",
    "from sklearn.metrics import mean_squared_error\n",
    "\n",
    "from sklearn.model_selection import StratifiedKFold\n",
    "\n",
    "from sklearn.preprocessing import StandardScaler\n",
    "from sklearn.cluster import DBSCAN\n",
    "\n",
    "import joblib\n",
    "\n",
    "import numpy as np\n",
    "\n",
    "import matplotlib.pyplot as plt\n"
   ]
  },
  {
   "cell_type": "code",
   "execution_count": 2,
   "metadata": {},
   "outputs": [
    {
     "name": "stderr",
     "output_type": "stream",
     "text": [
      "C:\\Users\\am790\\AppData\\Local\\Temp\\ipykernel_9480\\3492790858.py:1: DtypeWarning: Columns (0) have mixed types. Specify dtype option on import or set low_memory=False.\n",
      "  df = pd.read_csv(r\"C:\\Users\\am790\\OneDrive\\Desktop\\analytic\\data\\sales .csv\")\n"
     ]
    }
   ],
   "source": [
    "df = pd.read_csv(r\"sales .csv\")"
   ]
  },
  {
   "cell_type": "code",
   "execution_count": 9,
   "metadata": {},
   "outputs": [
    {
     "data": {
      "text/plain": [
       "Index(['order_id', 'order_date', 'status', 'item_id', 'sku', 'qty_ordered',\n",
       "       'price', 'value', 'discount_percentage', 'discount_amount', 'total',\n",
       "       'category', 'payment_method', 'bi_st', 'cust_id', 'year', 'month',\n",
       "       'ref_num', 'Name Prefix', 'First Name', 'Middle Initial', 'Last Name',\n",
       "       'Gender', 'age', 'full_name', 'E Mail', 'SSN', 'Phone No. ',\n",
       "       'Place Name', 'County', 'City', 'State', 'Zip', 'Region', 'User Name'],\n",
       "      dtype='object')"
      ]
     },
     "execution_count": 9,
     "metadata": {},
     "output_type": "execute_result"
    }
   ],
   "source": [
    "df.columns"
   ]
  },
  {
   "cell_type": "code",
   "execution_count": 10,
   "metadata": {},
   "outputs": [
    {
     "name": "stdout",
     "output_type": "stream",
     "text": [
      "<class 'pandas.core.frame.DataFrame'>\n",
      "RangeIndex: 286392 entries, 0 to 286391\n",
      "Data columns (total 35 columns):\n",
      " #   Column               Non-Null Count   Dtype  \n",
      "---  ------               --------------   -----  \n",
      " 0   order_id             286392 non-null  object \n",
      " 1   order_date           286392 non-null  object \n",
      " 2   status               286392 non-null  object \n",
      " 3   item_id              286392 non-null  int64  \n",
      " 4   sku                  286392 non-null  object \n",
      " 5   qty_ordered          286392 non-null  int64  \n",
      " 6   price                286392 non-null  float64\n",
      " 7   value                286392 non-null  float64\n",
      " 8   discount_percentage  286392 non-null  object \n",
      " 9   discount_amount      286392 non-null  float64\n",
      " 10  total                286392 non-null  float64\n",
      " 11  category             286392 non-null  object \n",
      " 12  payment_method       286392 non-null  object \n",
      " 13  bi_st                286392 non-null  object \n",
      " 14  cust_id              286392 non-null  int64  \n",
      " 15  year                 286392 non-null  int64  \n",
      " 16  month                286392 non-null  object \n",
      " 17  ref_num              286392 non-null  int64  \n",
      " 18  Name Prefix          286392 non-null  object \n",
      " 19  First Name           286392 non-null  object \n",
      " 20  Middle Initial       286392 non-null  object \n",
      " 21  Last Name            286392 non-null  object \n",
      " 22  Gender               286392 non-null  object \n",
      " 23  age                  286392 non-null  int64  \n",
      " 24  full_name            286392 non-null  object \n",
      " 25  E Mail               286392 non-null  object \n",
      " 26  SSN                  286392 non-null  object \n",
      " 27  Phone No.            286392 non-null  object \n",
      " 28  Place Name           286392 non-null  object \n",
      " 29  County               286392 non-null  object \n",
      " 30  City                 286392 non-null  object \n",
      " 31  State                286392 non-null  object \n",
      " 32  Zip                  286392 non-null  int64  \n",
      " 33  Region               286392 non-null  object \n",
      " 34  User Name            286392 non-null  object \n",
      "dtypes: float64(4), int64(7), object(24)\n",
      "memory usage: 76.5+ MB\n"
     ]
    }
   ],
   "source": [
    "df.info()"
   ]
  },
  {
   "cell_type": "code",
   "execution_count": 3,
   "metadata": {},
   "outputs": [
    {
     "data": {
      "text/plain": [
       "['codPayment.pkl']"
      ]
     },
     "execution_count": 3,
     "metadata": {},
     "output_type": "execute_result"
    }
   ],
   "source": [
    "del(df['item_id'])\n",
    "del(df['year'])\n",
    "del(df['month'])\n",
    "del(df['ref_num'])\n",
    "del(df['Name Prefix'])\n",
    "del(df['First Name'])\n",
    "del(df['Middle Initial'])\n",
    "del(df['Last Name'])\n",
    "del(df['E Mail'])\n",
    "del(df['Phone No. '])\n",
    "del(df['Place Name'])\n",
    "del(df['Zip'])\n",
    "del(df['Region'])\n",
    "del(df['User Name'])\n",
    "del(df['SSN'])\n",
    "del(df['order_id'])\n",
    "del(df['cust_id'])\n",
    "\n",
    "df = df[df[\"price\"] >= 1]\n",
    "\n",
    "df['order_date'] = pd.to_datetime(df['order_date'])\n",
    "df['discount_percentage'] = df['discount_percentage'].apply(lambda x: float(x) )\n",
    "df['deserve_disc'] = df['discount_amount'].apply(lambda x: False if x == 0 else True)\n",
    "\n",
    "#-----date encode--------#\n",
    "\n",
    "def date_encode(x):\n",
    "\n",
    "    return x.month\n",
    "\n",
    "df['month'] = df['order_date'].apply(lambda x: date_encode(x) ) \n",
    "\n",
    "#-------------group each age interval-----------#\n",
    "\n",
    "def map_age_to_group(age):\n",
    "\n",
    "    if( 0 < age and age <=18 ):\n",
    "        return \"youth\"\n",
    "    elif(18 < age and age <=40):\n",
    "        return \"middle\"\n",
    "    else:\n",
    "        return \"old\"\n",
    "\n",
    "df['age_group'] = df['age'].apply(map_age_to_group)\n",
    "\n",
    "def age_encode(x):\n",
    "\n",
    "    if(x == \"youth\"):\n",
    "\n",
    "        return 0\n",
    "\n",
    "    elif(x==\"middle\"):\n",
    "\n",
    "        return 1\n",
    "\n",
    "    elif(x==\"old\"):\n",
    "\n",
    "        return 2\n",
    "\n",
    "\n",
    "df['age_group_enc'] = df['age_group'].apply(age_encode)\n",
    "\n",
    "\n",
    "#----------encoding category-------------\n",
    "\n",
    "Category_encoder = LabelEncoder()\n",
    "df['category_enc'] = Category_encoder.fit_transform(df['category'])\n",
    "joblib.dump(Category_encoder, 'codCat.pkl')\n",
    "\n",
    "#----------encoding state_name-----------\n",
    "\n",
    "label_encoder = LabelEncoder()\n",
    "df['state_encoded'] = label_encoder.fit_transform(df['State'])\n",
    "joblib.dump(label_encoder, 'codState.pkl')\n",
    "\n",
    "#---------encoding payment method--------\n",
    "\n",
    "Mencoder = LabelEncoder()\n",
    "df['pay_encoded'] = Mencoder.fit_transform(df['payment_method'])\n",
    "joblib.dump(Mencoder, 'codPayment.pkl')"
   ]
  },
  {
   "cell_type": "code",
   "execution_count": 12,
   "metadata": {},
   "outputs": [
    {
     "data": {
      "text/html": [
       "<div>\n",
       "<style scoped>\n",
       "    .dataframe tbody tr th:only-of-type {\n",
       "        vertical-align: middle;\n",
       "    }\n",
       "\n",
       "    .dataframe tbody tr th {\n",
       "        vertical-align: top;\n",
       "    }\n",
       "\n",
       "    .dataframe thead th {\n",
       "        text-align: right;\n",
       "    }\n",
       "</style>\n",
       "<table border=\"1\" class=\"dataframe\">\n",
       "  <thead>\n",
       "    <tr style=\"text-align: right;\">\n",
       "      <th></th>\n",
       "      <th>order_date</th>\n",
       "      <th>qty_ordered</th>\n",
       "      <th>price</th>\n",
       "      <th>value</th>\n",
       "      <th>discount_percentage</th>\n",
       "      <th>discount_amount</th>\n",
       "      <th>total</th>\n",
       "      <th>age</th>\n",
       "      <th>month</th>\n",
       "      <th>age_group_enc</th>\n",
       "      <th>category_enc</th>\n",
       "      <th>state_encoded</th>\n",
       "      <th>pay_encoded</th>\n",
       "    </tr>\n",
       "  </thead>\n",
       "  <tbody>\n",
       "    <tr>\n",
       "      <th>count</th>\n",
       "      <td>283562</td>\n",
       "      <td>283562.000000</td>\n",
       "      <td>283562.000000</td>\n",
       "      <td>283562.000000</td>\n",
       "      <td>283562.000000</td>\n",
       "      <td>283562.000000</td>\n",
       "      <td>283562.000000</td>\n",
       "      <td>283562.000000</td>\n",
       "      <td>283562.000000</td>\n",
       "      <td>283562.000000</td>\n",
       "      <td>283562.000000</td>\n",
       "      <td>283562.000000</td>\n",
       "      <td>283562.000000</td>\n",
       "    </tr>\n",
       "    <tr>\n",
       "      <th>mean</th>\n",
       "      <td>2021-03-12 08:28:28.527941120</td>\n",
       "      <td>2.980244</td>\n",
       "      <td>859.881520</td>\n",
       "      <td>1754.594897</td>\n",
       "      <td>0.036300</td>\n",
       "      <td>70.738337</td>\n",
       "      <td>1683.856560</td>\n",
       "      <td>46.529299</td>\n",
       "      <td>7.372910</td>\n",
       "      <td>1.580321</td>\n",
       "      <td>7.396322</td>\n",
       "      <td>25.145263</td>\n",
       "      <td>4.135882</td>\n",
       "    </tr>\n",
       "    <tr>\n",
       "      <th>min</th>\n",
       "      <td>2020-10-01 00:00:00</td>\n",
       "      <td>1.000000</td>\n",
       "      <td>1.000000</td>\n",
       "      <td>2.000000</td>\n",
       "      <td>0.000000</td>\n",
       "      <td>0.000000</td>\n",
       "      <td>1.982000</td>\n",
       "      <td>18.000000</td>\n",
       "      <td>1.000000</td>\n",
       "      <td>0.000000</td>\n",
       "      <td>0.000000</td>\n",
       "      <td>0.000000</td>\n",
       "      <td>0.000000</td>\n",
       "    </tr>\n",
       "    <tr>\n",
       "      <th>25%</th>\n",
       "      <td>2020-12-24 00:00:00</td>\n",
       "      <td>2.000000</td>\n",
       "      <td>50.000000</td>\n",
       "      <td>129.800000</td>\n",
       "      <td>0.000000</td>\n",
       "      <td>0.000000</td>\n",
       "      <td>125.000000</td>\n",
       "      <td>32.000000</td>\n",
       "      <td>4.000000</td>\n",
       "      <td>1.000000</td>\n",
       "      <td>4.000000</td>\n",
       "      <td>13.000000</td>\n",
       "      <td>1.000000</td>\n",
       "    </tr>\n",
       "    <tr>\n",
       "      <th>50%</th>\n",
       "      <td>2021-03-15 00:00:00</td>\n",
       "      <td>2.000000</td>\n",
       "      <td>120.000000</td>\n",
       "      <td>340.000000</td>\n",
       "      <td>0.000000</td>\n",
       "      <td>0.000000</td>\n",
       "      <td>324.000000</td>\n",
       "      <td>47.000000</td>\n",
       "      <td>7.000000</td>\n",
       "      <td>2.000000</td>\n",
       "      <td>8.000000</td>\n",
       "      <td>24.000000</td>\n",
       "      <td>6.000000</td>\n",
       "    </tr>\n",
       "    <tr>\n",
       "      <th>75%</th>\n",
       "      <td>2021-05-18 00:00:00</td>\n",
       "      <td>3.000000</td>\n",
       "      <td>963.500000</td>\n",
       "      <td>2010.000000</td>\n",
       "      <td>0.060000</td>\n",
       "      <td>19.960000</td>\n",
       "      <td>1979.200000</td>\n",
       "      <td>61.000000</td>\n",
       "      <td>12.000000</td>\n",
       "      <td>2.000000</td>\n",
       "      <td>10.000000</td>\n",
       "      <td>38.000000</td>\n",
       "      <td>6.000000</td>\n",
       "    </tr>\n",
       "    <tr>\n",
       "      <th>max</th>\n",
       "      <td>2021-09-30 00:00:00</td>\n",
       "      <td>371.000000</td>\n",
       "      <td>101262.590000</td>\n",
       "      <td>202525.180000</td>\n",
       "      <td>0.680000</td>\n",
       "      <td>30213.150000</td>\n",
       "      <td>202525.180000</td>\n",
       "      <td>75.000000</td>\n",
       "      <td>12.000000</td>\n",
       "      <td>2.000000</td>\n",
       "      <td>14.000000</td>\n",
       "      <td>50.000000</td>\n",
       "      <td>12.000000</td>\n",
       "    </tr>\n",
       "    <tr>\n",
       "      <th>std</th>\n",
       "      <td>NaN</td>\n",
       "      <td>3.801886</td>\n",
       "      <td>1748.332753</td>\n",
       "      <td>3601.440539</td>\n",
       "      <td>0.075001</td>\n",
       "      <td>258.063787</td>\n",
       "      <td>3519.531956</td>\n",
       "      <td>16.663521</td>\n",
       "      <td>3.838584</td>\n",
       "      <td>0.530807</td>\n",
       "      <td>4.274899</td>\n",
       "      <td>14.550035</td>\n",
       "      <td>3.142717</td>\n",
       "    </tr>\n",
       "  </tbody>\n",
       "</table>\n",
       "</div>"
      ],
      "text/plain": [
       "                          order_date    qty_ordered          price  \\\n",
       "count                         283562  283562.000000  283562.000000   \n",
       "mean   2021-03-12 08:28:28.527941120       2.980244     859.881520   \n",
       "min              2020-10-01 00:00:00       1.000000       1.000000   \n",
       "25%              2020-12-24 00:00:00       2.000000      50.000000   \n",
       "50%              2021-03-15 00:00:00       2.000000     120.000000   \n",
       "75%              2021-05-18 00:00:00       3.000000     963.500000   \n",
       "max              2021-09-30 00:00:00     371.000000  101262.590000   \n",
       "std                              NaN       3.801886    1748.332753   \n",
       "\n",
       "               value  discount_percentage  discount_amount          total  \\\n",
       "count  283562.000000        283562.000000    283562.000000  283562.000000   \n",
       "mean     1754.594897             0.036300        70.738337    1683.856560   \n",
       "min         2.000000             0.000000         0.000000       1.982000   \n",
       "25%       129.800000             0.000000         0.000000     125.000000   \n",
       "50%       340.000000             0.000000         0.000000     324.000000   \n",
       "75%      2010.000000             0.060000        19.960000    1979.200000   \n",
       "max    202525.180000             0.680000     30213.150000  202525.180000   \n",
       "std      3601.440539             0.075001       258.063787    3519.531956   \n",
       "\n",
       "                 age          month  age_group_enc   category_enc  \\\n",
       "count  283562.000000  283562.000000  283562.000000  283562.000000   \n",
       "mean       46.529299       7.372910       1.580321       7.396322   \n",
       "min        18.000000       1.000000       0.000000       0.000000   \n",
       "25%        32.000000       4.000000       1.000000       4.000000   \n",
       "50%        47.000000       7.000000       2.000000       8.000000   \n",
       "75%        61.000000      12.000000       2.000000      10.000000   \n",
       "max        75.000000      12.000000       2.000000      14.000000   \n",
       "std        16.663521       3.838584       0.530807       4.274899   \n",
       "\n",
       "       state_encoded    pay_encoded  \n",
       "count  283562.000000  283562.000000  \n",
       "mean       25.145263       4.135882  \n",
       "min         0.000000       0.000000  \n",
       "25%        13.000000       1.000000  \n",
       "50%        24.000000       6.000000  \n",
       "75%        38.000000       6.000000  \n",
       "max        50.000000      12.000000  \n",
       "std        14.550035       3.142717  "
      ]
     },
     "execution_count": 12,
     "metadata": {},
     "output_type": "execute_result"
    }
   ],
   "source": [
    "df.describe()"
   ]
  },
  {
   "cell_type": "code",
   "execution_count": 4,
   "metadata": {},
   "outputs": [],
   "source": [
    "def gen_encode(x):\n",
    "\n",
    "    if(x == \"F\"):\n",
    "\n",
    "        return 0\n",
    "\n",
    "    elif(x==\"M\"):\n",
    "\n",
    "        return 1\n",
    "\n",
    "\n",
    "\n",
    "df['gender_enc'] = df['Gender'].apply(gen_encode)"
   ]
  },
  {
   "cell_type": "code",
   "execution_count": 5,
   "metadata": {},
   "outputs": [],
   "source": [
    "mean = df[\"value\"].mean()\n",
    "std_dev = df[\"value\"].std()\n",
    "\n",
    "# Calculate z-scores for each data point\n",
    "df[\"z-score\"] = (df[\"value\"] - mean) / std_dev\n",
    "\n",
    "# Set threshold\n",
    "threshold = 3\n",
    "\n",
    "# Find outliers\n",
    "df = df[ abs(df[\"z-score\"]) < threshold]\n",
    "\n"
   ]
  },
  {
   "cell_type": "code",
   "execution_count": 6,
   "metadata": {},
   "outputs": [
    {
     "data": {
      "image/png": "[encoded data removed]",
      "text/plain": [
       "<Figure size 640x480 with 1 Axes>"
      ]
     },
     "metadata": {},
     "output_type": "display_data"
    }
   ],
   "source": [
    "#------------clustring step on values---------\n",
    "# Select features for clustering\n",
    "features = ['value']\n",
    "\n",
    "# Extract the features\n",
    "X = df[features]\n",
    "\n",
    "# Elbow method to find the optimal number of clusters\n",
    "distortions = []\n",
    "for i in range(1, 11):\n",
    "    kmeans = KMeans(n_clusters=i, random_state=42)\n",
    "    kmeans.fit(X)\n",
    "    distortions.append(kmeans.inertia_)\n",
    "\n",
    "# Plot the elbow curve\n",
    "plt.plot(range(1, 11), distortions, marker='o')\n",
    "plt.xlabel('Number of clusters')\n",
    "plt.ylabel('Distortion')\n",
    "plt.title('Elbow Method')\n",
    "plt.show()"
   ]
  },
  {
   "cell_type": "code",
   "execution_count": 7,
   "metadata": {},
   "outputs": [
    {
     "name": "stdout",
     "output_type": "stream",
     "text": [
      "Bcubed Precision: 0.6385612689607546\n",
      "Bcubed Recall: 0.588762211303506\n"
     ]
    }
   ],
   "source": [
    "from sklearn.cluster import KMeans\n",
    "from sklearn.metrics import precision_score, recall_score\n",
    "\n",
    "features = ['category_enc', 'gender_enc', 'pay_encoded', 'state_encoded', 'age_group_enc', 'month', 'value']\n",
    "\n",
    "# Extract the features\n",
    "X = df[features]\n",
    "\n",
    "# Perform k-means clustering\n",
    "kmeans = KMeans(n_clusters=2, random_state=42)\n",
    "clusters = kmeans.fit_predict(X)\n",
    "\n",
    "# Assuming you have ground truth labels in df['true_labels']\n",
    "# Replace 'true_labels' with the actual column name containing your ground truth labels\n",
    "true_labels = df['deserve_disc']\n",
    "\n",
    "# Compute Bcubed precision\n",
    "precision = precision_score(true_labels, clusters, average='macro')\n",
    "\n",
    "# Compute Bcubed recall\n",
    "recall = recall_score(true_labels, clusters, average='macro')\n",
    "\n",
    "print(\"Bcubed Precision:\", precision)\n",
    "print(\"Bcubed Recall:\", recall)\n"
   ]
  },
  {
   "cell_type": "code",
   "execution_count": 8,
   "metadata": {},
   "outputs": [],
   "source": [
    "df['cluster'] = clusters\n"
   ]
  },
  {
   "cell_type": "code",
   "execution_count": 18,
   "metadata": {},
   "outputs": [
    {
     "data": {
      "text/plain": [
       "Index(['order_date', 'status', 'sku', 'qty_ordered', 'price', 'value',\n",
       "       'discount_percentage', 'discount_amount', 'total', 'category',\n",
       "       'payment_method', 'bi_st', 'Gender', 'age', 'full_name', 'County',\n",
       "       'City', 'State', 'deserve_disc', 'month', 'age_group', 'age_group_enc',\n",
       "       'category_enc', 'state_encoded', 'pay_encoded', 'gender_enc', 'z-score',\n",
       "       'cluster'],\n",
       "      dtype='object')"
      ]
     },
     "execution_count": 18,
     "metadata": {},
     "output_type": "execute_result"
    }
   ],
   "source": [
    "df.columns"
   ]
  },
  {
   "cell_type": "code",
   "execution_count": 10,
   "metadata": {},
   "outputs": [
    {
     "data": {
      "text/plain": [
       "['modCluster.pkl']"
      ]
     },
     "execution_count": 10,
     "metadata": {},
     "output_type": "execute_result"
    }
   ],
   "source": [
    "    joblib.dump(kmeans, 'modCluster.pkl')"
   ]
  },
  {
   "cell_type": "code",
   "execution_count": 19,
   "metadata": {},
   "outputs": [
    {
     "name": "stdout",
     "output_type": "stream",
     "text": [
      "Training Accuracy Scores: [0.9236345253731613, 0.9237699331536924, 0.9235039764572068, 0.9235310578910785, 0.924032064417704]\n",
      "Training F1 Scores: [0.8733256964877998, 0.8735408414636886, 0.8732480741904121, 0.8733838542367308, 0.8742688529488664]\n",
      "Testing Accuracy Scores: [0.8817815811803787, 0.881239957392262, 0.8825196793529284, 0.8821405358561422, 0.8815627933848487]\n",
      "Testing F1 Scores: [0.8043387318472479, 0.8041212554344589, 0.8058249530005073, 0.8050994207917836, 0.8041674129798794]\n",
      "Mean Training Accuracy: 0.9236943114585685\n",
      "Mean Training F1-score: 0.8735534638654995\n",
      "Mean Testing Accuracy: 0.8818489094333121\n",
      "Mean Testing F1-score: 0.8047103548107755\n"
     ]
    }
   ],
   "source": [
    "from sklearn.model_selection import StratifiedKFold, train_test_split\n",
    "from sklearn.tree import DecisionTreeClassifier\n",
    "from sklearn.metrics import accuracy_score, f1_score\n",
    "from sklearn.preprocessing import StandardScaler\n",
    "\n",
    "# Splitting features and target variable\n",
    "X = df[['category_enc', 'gender_enc','pay_encoded', 'state_encoded', 'age_group_enc','month','cluster']]\n",
    "y = df['deserve_disc']\n",
    "\n",
    "# Standardize features\n",
    "scaler = StandardScaler()\n",
    "X_scaled = scaler.fit_transform(X)\n",
    "\n",
    "# Initialize Decision Tree classifier\n",
    "dt_classifier = DecisionTreeClassifier(random_state=42)\n",
    "\n",
    "# Initialize StratifiedKFold\n",
    "stratified_kfold = StratifiedKFold(n_splits=5, shuffle=True, random_state=42)\n",
    "\n",
    "# Initialize lists to store accuracy and F1-score for each fold\n",
    "train_accuracy_scores = []\n",
    "train_f1_scores = []\n",
    "test_accuracy_scores = []\n",
    "test_f1_scores = []\n",
    "\n",
    "# Perform stratified cross-validation\n",
    "for train_index, test_index in stratified_kfold.split(X_scaled, y):\n",
    "    X_train, X_test = X_scaled[train_index], X_scaled[test_index]\n",
    "    y_train, y_test = y.iloc[train_index], y.iloc[test_index]\n",
    "    \n",
    "    # Fit model on the training data\n",
    "    dt_classifier.fit(X_train, y_train)\n",
    "    \n",
    "    # Predictions on the training data\n",
    "    y_train_pred = dt_classifier.predict(X_train)\n",
    "    \n",
    "    # Calculate accuracy and F1-score for the training data\n",
    "    train_accuracy = accuracy_score(y_train, y_train_pred)\n",
    "    train_f1 = f1_score(y_train, y_train_pred)\n",
    "    \n",
    "    train_accuracy_scores.append(train_accuracy)\n",
    "    train_f1_scores.append(train_f1)\n",
    "    \n",
    "    # Predictions on the testing data\n",
    "    y_test_pred = dt_classifier.predict(X_test)\n",
    "    \n",
    "    # Calculate accuracy and F1-score for the testing data\n",
    "    test_accuracy = accuracy_score(y_test, y_test_pred)\n",
    "    test_f1 = f1_score(y_test, y_test_pred)\n",
    "    \n",
    "    test_accuracy_scores.append(test_accuracy)\n",
    "    test_f1_scores.append(test_f1)\n",
    "\n",
    "# Print scores\n",
    "print(\"Training Accuracy Scores:\", train_accuracy_scores)\n",
    "print(\"Training F1 Scores:\", train_f1_scores)\n",
    "print(\"Testing Accuracy Scores:\", test_accuracy_scores)\n",
    "print(\"Testing F1 Scores:\", test_f1_scores)\n",
    "\n",
    "# Calculate mean accuracy and F1-score for training and testing sets\n",
    "mean_train_accuracy = sum(train_accuracy_scores) / len(train_accuracy_scores)\n",
    "mean_train_f1 = sum(train_f1_scores) / len(train_f1_scores)\n",
    "mean_test_accuracy = sum(test_accuracy_scores) / len(test_accuracy_scores)\n",
    "mean_test_f1 = sum(test_f1_scores) / len(test_f1_scores)\n",
    "\n",
    "print(\"Mean Training Accuracy:\", mean_train_accuracy)\n",
    "print(\"Mean Training F1-score:\", mean_train_f1)\n",
    "print(\"Mean Testing Accuracy:\", mean_test_accuracy)\n",
    "print(\"Mean Testing F1-score:\", mean_test_f1)"
   ]
  },
  {
   "cell_type": "code",
   "execution_count": 20,
   "metadata": {},
   "outputs": [
    {
     "data": {
      "text/plain": [
       "['modClass.pkl']"
      ]
     },
     "execution_count": 20,
     "metadata": {},
     "output_type": "execute_result"
    }
   ],
   "source": [
    "joblib.dump(dt_classifier, 'modClass.pkl')"
   ]
  },
  {
   "cell_type": "code",
   "execution_count": 21,
   "metadata": {},
   "outputs": [
    {
     "name": "stdout",
     "output_type": "stream",
     "text": [
      "Cross-Validation R-squared Scores: [0.99139379 0.99150216 0.99145663 0.99200805 0.9917683 ]\n",
      "Mean R-squared: 0.9916257865251745\n",
      "Standard Deviation of R-squared: 0.0002298501270377381\n",
      "Cross-Validation RMSE Scores: [65.78848999 65.7243131  65.61950366 63.68789058 64.68990241]\n",
      "Mean RMSE: 65.10201994685073\n",
      "Standard Deviation of RMSE: 0.8118967928591391\n",
      "Test RMSE: 65.28374792709512\n"
     ]
    }
   ],
   "source": [
    "df1 = df[df['cluster'] == 0 ]\n",
    "# --------- Regression step-----------------\n",
    "\n",
    "X = df1[['value','qty_ordered']]\n",
    "y = df1['total']\n",
    "\n",
    "X_train, X_test, y_train, y_test = train_test_split(X, y, test_size=0.2, random_state=42)\n",
    "\n",
    "model = LinearRegression()\n",
    "\n",
    "# Cross-validation for R-squared\n",
    "cv_scores_r_squared = cross_val_score(model, X_train, y_train, cv=5, scoring='r2')\n",
    "mean_r_squared = np.mean(cv_scores_r_squared)\n",
    "std_r_squared = np.std(cv_scores_r_squared)\n",
    "\n",
    "print(\"Cross-Validation R-squared Scores:\", cv_scores_r_squared)\n",
    "print(\"Mean R-squared:\", mean_r_squared)\n",
    "print(\"Standard Deviation of R-squared:\", std_r_squared)\n",
    "\n",
    "# Cross-validation for RMSE\n",
    "cv_scores_rmse = cross_val_score(model, X_train, y_train, cv=5, scoring='neg_root_mean_squared_error')\n",
    "cv_rmse_scores = -cv_scores_rmse\n",
    "mean_rmse = np.mean(cv_rmse_scores)\n",
    "std_rmse = np.std(cv_rmse_scores)\n",
    "\n",
    "print(\"Cross-Validation RMSE Scores:\", cv_rmse_scores)\n",
    "print(\"Mean RMSE:\", mean_rmse)\n",
    "print(\"Standard Deviation of RMSE:\", std_rmse)\n",
    "\n",
    "model.fit(X_train, y_train)\n",
    "\n",
    "y_pred = model.predict(X_test)\n",
    "\n",
    "test_rmse = np.sqrt(mean_squared_error(y_test, y_pred))\n",
    "print(\"Test RMSE:\", test_rmse)"
   ]
  },
  {
   "cell_type": "code",
   "execution_count": 22,
   "metadata": {},
   "outputs": [
    {
     "data": {
      "text/plain": [
       "['modRegOne.pkl']"
      ]
     },
     "execution_count": 22,
     "metadata": {},
     "output_type": "execute_result"
    }
   ],
   "source": [
    "joblib.dump(model, 'modRegOne.pkl')"
   ]
  },
  {
   "cell_type": "code",
   "execution_count": 23,
   "metadata": {},
   "outputs": [
    {
     "name": "stdout",
     "output_type": "stream",
     "text": [
      "Cross-Validation R-squared Scores: [0.96777833 0.96832168 0.96707227 0.96422222 0.96672316]\n",
      "Mean R-squared: 0.9668235324749908\n",
      "Standard Deviation of R-squared: 0.0014138496634992332\n",
      "Cross-Validation RMSE Scores: [365.99758471 370.65632411 369.92646343 383.37561709 373.90035231]\n",
      "Mean RMSE: 372.77126832978416\n",
      "Standard Deviation of RMSE: 5.868146847026318\n",
      "Test RMSE: 380.4526832762738\n"
     ]
    },
    {
     "data": {
      "text/plain": [
       "['modRegTwo.pkl']"
      ]
     },
     "execution_count": 23,
     "metadata": {},
     "output_type": "execute_result"
    }
   ],
   "source": [
    "dfC = df.query('cluster == 1 ')\n",
    "# --------- Regression step-----------------\n",
    "\n",
    "X = dfC[['value','qty_ordered']]\n",
    "y = dfC['total']\n",
    "\n",
    "X_train, X_test, y_train, y_test = train_test_split(X, y, test_size=0.2, random_state=42)\n",
    "\n",
    "model = LinearRegression()\n",
    "\n",
    "# Cross-validation for R-squared\n",
    "cv_scores_r_squared = cross_val_score(model, X_train, y_train, cv=5, scoring='r2')\n",
    "mean_r_squared = np.mean(cv_scores_r_squared)\n",
    "std_r_squared = np.std(cv_scores_r_squared)\n",
    "\n",
    "print(\"Cross-Validation R-squared Scores:\", cv_scores_r_squared)\n",
    "print(\"Mean R-squared:\", mean_r_squared)\n",
    "print(\"Standard Deviation of R-squared:\", std_r_squared)\n",
    "\n",
    "# Cross-validation for RMSE\n",
    "cv_scores_rmse = cross_val_score(model, X_train, y_train, cv=5, scoring='neg_root_mean_squared_error')\n",
    "cv_rmse_scores = -cv_scores_rmse\n",
    "mean_rmse = np.mean(cv_rmse_scores)\n",
    "std_rmse = np.std(cv_rmse_scores)\n",
    "\n",
    "print(\"Cross-Validation RMSE Scores:\", cv_rmse_scores)\n",
    "print(\"Mean RMSE:\", mean_rmse)\n",
    "print(\"Standard Deviation of RMSE:\", std_rmse)\n",
    "\n",
    "model.fit(X_train, y_train)\n",
    "\n",
    "y_pred = model.predict(X_test)\n",
    "\n",
    "test_rmse = np.sqrt(mean_squared_error(y_test, y_pred))\n",
    "print(\"Test RMSE:\", test_rmse)\n",
    "\n",
    "joblib.dump(model, 'modRegTwo.pkl')"
   ]
  }
 ],
 "metadata": {
  "kernelspec": {
   "display_name": "Python 3",
   "language": "python",
   "name": "python3"
  },
  "language_info": {
   "codemirror_mode": {
    "name": "ipython",
    "version": 3
   },
   "file_extension": ".py",
   "mimetype": "text/x-python",
   "name": "python",
   "nbconvert_exporter": "python",
   "pygments_lexer": "ipython3",
   "version": "3.11.4"
  }
 },
 "nbformat": 4,
 "nbformat_minor": 2
}
